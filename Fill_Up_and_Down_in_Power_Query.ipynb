{
 "cells": [
  {
   "cell_type": "code",
   "execution_count": null,
   "metadata": {},
   "outputs": [],
   "source": []
  },
  {
   "cell_type": "markdown",
   "metadata": {},
   "source": [
    "# Fill Up and Fill Down in Power Query\n",
    "\n",
    "## Steps to Fill Data Gaps Using Power Query\n",
    "\n",
    "1. **Understand the Data Structure:**\n",
    "   - Identify the columns with missing data that need to be filled.\n",
    "   - Note the sections of data where each category or group begins and ends.\n",
    "\n",
    "2. **Select the Dataset:**\n",
    "   - Place your cursor within the dataset you want to work with.\n",
    "   - Right-click and select `Get Data from Table/Range`.\n",
    "   - Ensure the table has headers and the \"marching ants\" encompass the entire dataset.\n",
    "   - Click `Okay`.\n",
    "\n",
    "3. **Fill Down Missing Data:**\n",
    "   - Highlight the column where data needs to be filled down (e.g., `OFFICE`).\n",
    "   - Right-click the column header.\n",
    "   - Select `Fill` > `Down`.\n",
    "   - Verify that the fill operation stops correctly without overwriting other sections.\n",
    "\n",
    "4. **Fill Up Missing Data:**\n",
    "   - Highlight the column where data needs to be filled up (e.g., `CATEGORY`).\n",
    "   - Right-click the column header.\n",
    "   - Select `Fill` > `Up`.\n",
    "   - Verify the fill operation stops at the appropriate boundary.\n",
    "\n",
    "5. **Clean Up the Data:**\n",
    "   - Remove any unnecessary rows or totals.\n",
    "   - For example, if you have summary rows (e.g., totals), filter them out:\n",
    "     - Click on the column with potential nulls (e.g., `EMPLOYEE`).\n",
    "     - Unselect `null` values to remove rows with nulls in the employee column.\n",
    "\n",
    "6. **Load the Clean Data:**\n",
    "   - Close and load the cleaned data back into your workbook.\n",
    "   - The cleaned data will be flattened, with no gaps.\n",
    "\n",
    "7. **Create Pivot Table for Analysis:**\n",
    "   - Go to `Insert` > `PivotTable`.\n",
    "   - Choose `New Worksheet` to place the PivotTable.\n",
    "   - Set up the PivotTable:\n",
    "     - Place `OFFICE` in the columns area.\n",
    "     - Place `CATEGORY` in the rows area.\n",
    "     - Place `HOURS` in the values area.\n",
    "\n",
    "8. **Analyze the Data:**\n",
    "   - Zoom in to check the totals and distribution.\n",
    "   - Verify the data reflects the correct totals and no gaps.\n",
    "\n",
    "By following these steps, you can effectively fill in data gaps using the `Fill Up` and `Fill Down` features in Power Query, ensuring a complete and organized dataset ready for further analysis.\n"
   ]
  }
 ],
 "metadata": {
  "language_info": {
   "name": "python"
  }
 },
 "nbformat": 4,
 "nbformat_minor": 2
}
