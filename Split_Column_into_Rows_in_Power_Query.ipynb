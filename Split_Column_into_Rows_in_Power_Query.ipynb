{
 "cells": [
  {
   "cell_type": "code",
   "execution_count": null,
   "metadata": {},
   "outputs": [],
   "source": []
  },
  {
   "cell_type": "markdown",
   "metadata": {},
   "source": [
    "# Split Column into Rows in Power Query\n",
    "\n",
    "## General Steps to Split a Column into Rows\n",
    "\n",
    "1. **Understand the Data:**\n",
    "   - Identify the column that contains multiple values that need to be split into separate rows.\n",
    "   - Determine the delimiter (e.g., comma, space) used to separate the values within the column.\n",
    "\n",
    "2. **Select the Dataset:**\n",
    "   - Place your cursor within the dataset you want to work with.\n",
    "   - Right-click and select `Get Data from Table/Range`.\n",
    "   - Ensure the table has headers and the \"marching ants\" encompass the entire dataset.\n",
    "   - Click `OK`.\n",
    "\n",
    "3. **Open the Power Query Editor:**\n",
    "   - The selected data will open in the Power Query Editor.\n",
    "   - Locate the column you want to split.\n",
    "\n",
    "4. **Remove Unnecessary Columns:**\n",
    "   - Highlight the column you want to keep.\n",
    "   - Right-click the column header and select `Remove Other Columns`.\n",
    "\n",
    "5. **Split Column by Delimiter into Rows:**\n",
    "   - Highlight the column to be split.\n",
    "   - Right-click the column header and select `Split Column` > `By Delimiter`.\n",
    "   - Choose the delimiter (e.g., `comma, space`).\n",
    "   - In `Advanced options`, select `Split into rows`.\n",
    "   - Click `OK`.\n",
    "\n",
    "6. **Remove Duplicates (Optional):**\n",
    "   - If you need a unique list of values, highlight the column.\n",
    "   - Right-click and select `Remove Duplicates`.\n",
    "   - Sort the column if necessary for better readability.\n",
    "\n",
    "7. **Duplicate the Query for Additional Analysis (Optional):**\n",
    "   - Right-click the query name in the Queries pane and select `Duplicate`.\n",
    "   - Rename the duplicated query (e.g., `ColorsList` and `ColorCount`).\n",
    "\n",
    "8. **Group and Count Values:**\n",
    "   - For counting occurrences of each value, keep the necessary columns (e.g., product and color).\n",
    "   - Highlight the relevant column(s) and go to `Home` tab.\n",
    "   - Select `Group By`.\n",
    "   - Choose `Group By` settings:\n",
    "     - Group by the main column (e.g., product).\n",
    "     - Create a new column for counts (e.g., `ColorCount`) and set it to `Count Rows`.\n",
    "   - Click `OK`.\n",
    "\n",
    "9. **Finalize and Load Data:**\n",
    "   - Once the transformations are complete, click `Close & Load`.\n",
    "   - Choose `Close & Load To` if you want to specify the load location:\n",
    "     - **Existing Worksheet:** Select a specific cell in the current workbook.\n",
    "     - **New Worksheet:** Load the data into a new worksheet.\n",
    "\n",
    "By following these steps, you can efficiently split a column into rows in Power Query, allowing for detailed analysis and organization of your data.\n"
   ]
  }
 ],
 "metadata": {
  "language_info": {
   "name": "python"
  }
 },
 "nbformat": 4,
 "nbformat_minor": 2
}
