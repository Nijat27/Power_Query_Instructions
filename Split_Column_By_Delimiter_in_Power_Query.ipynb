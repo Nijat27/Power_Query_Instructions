{
 "cells": [
  {
   "cell_type": "code",
   "execution_count": null,
   "metadata": {},
   "outputs": [],
   "source": []
  },
  {
   "cell_type": "markdown",
   "metadata": {},
   "source": [
    "# Split Column by Delimiter in Power Query\n",
    "\n",
    "## General Steps to Split Columns by Delimiter\n",
    "\n",
    "1. **Understand the Data:**\n",
    "   - Identify the column that contains the combined data needing separation.\n",
    "   - Determine the delimiter (e.g., comma, space, asterisk) used to separate the data within the column.\n",
    "\n",
    "2. **Select the Dataset:**\n",
    "   - Place your cursor within the dataset you want to work with.\n",
    "   - Right-click and select `Get Data from Table/Range`.\n",
    "   - Ensure the table has headers and the \"marching ants\" encompass the entire dataset.\n",
    "   - Click `OK`.\n",
    "\n",
    "3. **Open the Power Query Editor:**\n",
    "   - The selected data will open in the Power Query Editor.\n",
    "   - Locate the column you want to split.\n",
    "\n",
    "4. **Split Column by Delimiter:**\n",
    "   - Highlight the column to be split.\n",
    "   - Right-click the column header.\n",
    "   - Select `Split Column` > `By Delimiter`.\n",
    "   - Power Query will automatically suggest a delimiter based on the data. You can:\n",
    "     - Accept the suggested delimiter.\n",
    "     - Choose a different delimiter from the dropdown menu.\n",
    "     - Select `Custom` to specify your own delimiter.\n",
    "   - Choose the splitting option:\n",
    "     - `At each occurrence of the delimiter`\n",
    "     - `At the left-most delimiter`\n",
    "     - `At the right-most delimiter`\n",
    "\n",
    "5. **Perform Additional Splits if Necessary:**\n",
    "   - If further splits are required (e.g., separating first and last names):\n",
    "     - Highlight the relevant column.\n",
    "     - Repeat the `Split Column` > `By Delimiter` steps with the appropriate delimiter.\n",
    "\n",
    "6. **Remove Unwanted Data:**\n",
    "   - If the split results include unwanted columns (e.g., age), right-click the column header and select `Remove`.\n",
    "\n",
    "7. **Rename Columns for Clarity:**\n",
    "   - Double-click the column headers to rename them (e.g., `ID`, `First Name`, `Last Name`, `Email`).\n",
    "\n",
    "8. **Close and Load Data:**\n",
    "   - Once the data is prepared, click on `Close & Load`.\n",
    "   - Choose `Close & Load To` if you want to specify the load location:\n",
    "     - **Existing Worksheet:** Select a specific cell in the current workbook.\n",
    "     - **New Worksheet:** Load the data into a new worksheet.\n",
    "\n",
    "9. **Refresh Data as Needed:**\n",
    "   - After initial loading, if the source data changes, you can refresh the data.\n",
    "   - Go to the `Data` tab and click `Refresh` to update the split data based on any changes in the source data.\n",
    "\n",
    "By following these steps, you can efficiently split columns by delimiter in Power Query, ensuring your data is organized and ready for further analysis.\n"
   ]
  }
 ],
 "metadata": {
  "language_info": {
   "name": "python"
  }
 },
 "nbformat": 4,
 "nbformat_minor": 2
}
