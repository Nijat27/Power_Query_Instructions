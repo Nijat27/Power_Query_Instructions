{
 "cells": [
  {
   "cell_type": "code",
   "execution_count": null,
   "metadata": {},
   "outputs": [],
   "source": []
  },
  {
   "cell_type": "markdown",
   "metadata": {},
   "source": [
    "# Separating Data in Power Query: Cheat Sheet\n",
    "\n",
    "## Introduction\n",
    "\n",
    "This cheat sheet provides step-by-step instructions on how to separate the student’s last name, preferred name, and student ID from a single column using Power Query. This process is essential for preparing data for use in bulk communication tools.\n",
    "\n",
    "## Steps to Separate Data\n",
    "\n",
    "1. **Open Excel and Load Data into Power Query:**\n",
    "   - Launch Excel and open the workbook with the data.\n",
    "   - Place your cursor within the dataset you want to work with.\n",
    "   - Right-click and select `Get Data from Table/Range`.\n",
    "   - Ensure the table has headers and the \"marching ants\" encompass the entire dataset.\n",
    "   - Click `OK`.\n",
    "\n",
    "2. **Open the Power Query Editor:**\n",
    "   - The selected data will open in the Power Query Editor.\n",
    "\n",
    "3. **Select the Column to Split:**\n",
    "   - Identify the column that contains the combined data you want to separate (e.g., `StudentInfo`).\n",
    "\n",
    "4. **Split Column by Delimiter:**\n",
    "   - Highlight the column to be split.\n",
    "   - Right-click the column header and select `Split Column` > `By Delimiter`.\n",
    "   - Choose the delimiter that separates the data (e.g., comma, space, hyphen):\n",
    "     - If unsure, inspect the data to identify the delimiter.\n",
    "   - In `Advanced options`, select `Split into columns`.\n",
    "   - Click `OK`.\n",
    "\n",
    "5. **Rename the New Columns:**\n",
    "   - Power Query will create new columns based on the splits.\n",
    "   - Rename these columns to reflect the correct data (e.g., `LastName`, `PreferredName`, `StudentID`):\n",
    "     - Double-click on the column headers to rename them.\n",
    "\n",
    "6. **Trim and Clean Data:**\n",
    "   - Ensure there are no leading or trailing spaces in the new columns:\n",
    "     - Select each new column.\n",
    "     - Go to the `Transform` tab.\n",
    "     - Click `Trim` to remove any extra spaces.\n",
    "\n",
    "7. **Convert Data Types (If Necessary):**\n",
    "   - Ensure that each column has the correct data type:\n",
    "     - `LastName` and `PreferredName` should be text.\n",
    "     - `StudentID` should be a number (if applicable):\n",
    "       - Select the `StudentID` column.\n",
    "       - Go to the `Transform` tab.\n",
    "       - Select `Data Type` and choose `Whole Number` or `Text`, depending on your needs.\n",
    "\n",
    "8. **Close and Load Data:**\n",
    "   - Once the data is prepared, click `Close & Load`.\n",
    "   - Choose `Close & Load To` if you want to specify the load location:\n",
    "     - **Existing Worksheet:** Select a specific cell in the current workbook.\n",
    "     - **New Worksheet:** Load the data into a new worksheet.\n",
    "\n"
   ]
  }
 ],
 "metadata": {
  "language_info": {
   "name": "python"
  }
 },
 "nbformat": 4,
 "nbformat_minor": 2
}
